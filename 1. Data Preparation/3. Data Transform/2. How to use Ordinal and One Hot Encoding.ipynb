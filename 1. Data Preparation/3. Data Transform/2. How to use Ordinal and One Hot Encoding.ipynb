{
 "cells": [
  {
   "cell_type": "markdown",
   "metadata": {},
   "source": [
    "##### 순서 인코딩"
   ]
  },
  {
   "cell_type": "code",
   "execution_count": 1,
   "metadata": {},
   "outputs": [
    {
     "name": "stdout",
     "output_type": "stream",
     "text": [
      "[['red']\n",
      " ['green']\n",
      " ['blue']]\n",
      "[[2.]\n",
      " [1.]\n",
      " [0.]]\n"
     ]
    }
   ],
   "source": [
    "from numpy import asarray\n",
    "from sklearn.preprocessing import OrdinalEncoder\n",
    "\n",
    "# 데이터 세트\n",
    "data = asarray([['red'], ['green'], ['blue']])\n",
    "print(data)\n",
    "\n",
    "# 순서 인코딩\n",
    "encoder = OrdinalEncoder()\n",
    "\n",
    "# 데이터 변환\n",
    "result = encoder.fit_transform(data)\n",
    "print(result)"
   ]
  },
  {
   "cell_type": "markdown",
   "metadata": {},
   "source": [
    "##### 순서 인코딩\n",
    "\n",
    "```\n",
    "유방암 데이터\n",
    " - 정확도 : 75.79%\n",
    "```"
   ]
  },
  {
   "cell_type": "code",
   "execution_count": 4,
   "metadata": {},
   "outputs": [
    {
     "name": "stdout",
     "output_type": "stream",
     "text": [
      "[[\"'50-59'\" \"'ge40'\" \"'25-29'\" \"'0-2'\" \"'no'\" \"'1'\" \"'left'\"\n",
      "  \"'right_low'\" \"'no'\"]\n",
      " [\"'30-39'\" \"'premeno'\" \"'5-9'\" \"'0-2'\" \"'no'\" \"'2'\" \"'left'\"\n",
      "  \"'right_low'\" \"'no'\"]\n",
      " [\"'50-59'\" \"'premeno'\" \"'50-54'\" \"'0-2'\" \"'yes'\" \"'2'\" \"'right'\"\n",
      "  \"'left_up'\" \"'yes'\"]\n",
      " [\"'30-39'\" \"'premeno'\" \"'25-29'\" \"'0-2'\" \"'no'\" \"'1'\" \"'left'\"\n",
      "  \"'central'\" \"'no'\"]\n",
      " [\"'40-49'\" \"'premeno'\" \"'20-24'\" \"'0-2'\" \"'no'\" \"'2'\" \"'right'\"\n",
      "  \"'right_up'\" \"'no'\"]]\n",
      "[[ 3.  0.  4.  0.  0.  0.  0.  3.  0.]\n",
      " [ 1.  2.  9.  0.  0.  1.  0.  3.  0.]\n",
      " [ 3.  2. 10.  0.  1.  1.  1.  2.  1.]\n",
      " [ 1.  2.  4.  0.  0.  0.  0.  0.  0.]\n",
      " [ 2.  2.  3.  0.  0.  1.  1.  4.  0.]]\n",
      "Accuracy: 75.79\n"
     ]
    }
   ],
   "source": [
    "from pandas import read_csv\n",
    "from sklearn.model_selection import train_test_split\n",
    "from sklearn.linear_model import LogisticRegression\n",
    "from sklearn.preprocessing import LabelEncoder\n",
    "from sklearn.preprocessing import OrdinalEncoder\n",
    "from sklearn.metrics import accuracy_score\n",
    "\n",
    "# 유방암 데이터\n",
    "url = \"https://raw.githubusercontent.com/jbrownlee/Datasets/master/breast-cancer.csv\"\n",
    "\n",
    "# 데이터 세트 로드\n",
    "dataset = read_csv(url, header=None)\n",
    "\n",
    "# 데이터 분할\n",
    "data = dataset.values\n",
    "\n",
    "X = data[:, :-1].astype(str)\n",
    "y = data[:, -1].astype(str)\n",
    "X_train, X_test, y_train, y_test = train_test_split(X, y, test_size=0.33, random_state=1)\n",
    "\n",
    "# 원시 훈련 데이터\n",
    "print(X_train[:5, :])\n",
    "\n",
    "# 순서 인코딩\n",
    "ordinal_encoder = OrdinalEncoder()\n",
    "ordinal_encoder.fit(X_train)\n",
    "\n",
    "X_train = ordinal_encoder.transform(X_train)\n",
    "X_test = ordinal_encoder.transform(X_test)\n",
    "\n",
    "# 순서 인코딩된 훈련 데이터\n",
    "print(X_train[:5, :])\n",
    "\n",
    "# 순서 인코딩\n",
    "label_encoder = LabelEncoder()\n",
    "label_encoder.fit(y_train)\n",
    "\n",
    "y_train = label_encoder.transform(y_train)\n",
    "y_test = label_encoder.transform(y_test)\n",
    "\n",
    "# 로지스틱 회귀\n",
    "model = LogisticRegression()\n",
    "model.fit(X_train, y_train)\n",
    "\n",
    "# 모델 예측\n",
    "yhat = model.predict(X_test)\n",
    "\n",
    "# 예측 정확도\n",
    "accuracy = accuracy_score(y_test, yhat)\n",
    "print('Accuracy: %.2f' % (accuracy*100))"
   ]
  },
  {
   "cell_type": "markdown",
   "metadata": {},
   "source": [
    "##### 원-핫 인코딩\n",
    "\n",
    "```\n",
    "유방암 데이터\n",
    " - 정확도 : 70.53%\n",
    "```"
   ]
  },
  {
   "cell_type": "code",
   "execution_count": 8,
   "metadata": {},
   "outputs": [
    {
     "name": "stdout",
     "output_type": "stream",
     "text": [
      "[[\"'50-59'\" \"'ge40'\" \"'25-29'\" \"'0-2'\" \"'no'\" \"'1'\" \"'left'\"\n",
      "  \"'right_low'\" \"'no'\"]\n",
      " [\"'30-39'\" \"'premeno'\" \"'5-9'\" \"'0-2'\" \"'no'\" \"'2'\" \"'left'\"\n",
      "  \"'right_low'\" \"'no'\"]\n",
      " [\"'50-59'\" \"'premeno'\" \"'50-54'\" \"'0-2'\" \"'yes'\" \"'2'\" \"'right'\"\n",
      "  \"'left_up'\" \"'yes'\"]\n",
      " [\"'30-39'\" \"'premeno'\" \"'25-29'\" \"'0-2'\" \"'no'\" \"'1'\" \"'left'\"\n",
      "  \"'central'\" \"'no'\"]\n",
      " [\"'40-49'\" \"'premeno'\" \"'20-24'\" \"'0-2'\" \"'no'\" \"'2'\" \"'right'\"\n",
      "  \"'right_up'\" \"'no'\"]]\n",
      "[[0. 0. 0. 1. 0. 0. 1. 0. 0. 0. 0. 0. 0. 1. 0. 0. 0. 0. 0. 0. 1. 0. 0. 0.\n",
      "  0. 0. 0. 1. 0. 0. 1. 0. 0. 1. 0. 0. 0. 0. 1. 0. 0. 1. 0.]\n",
      " [0. 1. 0. 0. 0. 0. 0. 0. 1. 0. 0. 0. 0. 0. 0. 0. 0. 0. 1. 0. 1. 0. 0. 0.\n",
      "  0. 0. 0. 1. 0. 0. 0. 1. 0. 1. 0. 0. 0. 0. 1. 0. 0. 1. 0.]\n",
      " [0. 0. 0. 1. 0. 0. 0. 0. 1. 0. 0. 0. 0. 0. 0. 0. 0. 0. 0. 1. 1. 0. 0. 0.\n",
      "  0. 0. 0. 0. 1. 0. 0. 1. 0. 0. 1. 0. 0. 1. 0. 0. 0. 0. 1.]\n",
      " [0. 1. 0. 0. 0. 0. 0. 0. 1. 0. 0. 0. 0. 1. 0. 0. 0. 0. 0. 0. 1. 0. 0. 0.\n",
      "  0. 0. 0. 1. 0. 0. 1. 0. 0. 1. 0. 1. 0. 0. 0. 0. 0. 1. 0.]\n",
      " [0. 0. 1. 0. 0. 0. 0. 0. 1. 0. 0. 0. 1. 0. 0. 0. 0. 0. 0. 0. 1. 0. 0. 0.\n",
      "  0. 0. 0. 1. 0. 0. 0. 1. 0. 0. 1. 0. 0. 0. 0. 1. 0. 1. 0.]]\n",
      "Accuracy: 70.53\n"
     ]
    }
   ],
   "source": [
    "from pandas import read_csv\n",
    "from sklearn.model_selection import train_test_split\n",
    "from sklearn.linear_model import LogisticRegression\n",
    "from sklearn.preprocessing import LabelEncoder\n",
    "from sklearn.preprocessing import OneHotEncoder\n",
    "from sklearn.metrics import accuracy_score\n",
    "\n",
    "# 유방암 데이터\n",
    "url = \"https://raw.githubusercontent.com/jbrownlee/Datasets/master/breast-cancer.csv\"\n",
    "\n",
    "# 데이터 세트 로드\n",
    "dataset = read_csv(url, header=None)\n",
    "\n",
    "# 데이터 분할\n",
    "data = dataset.values\n",
    "\n",
    "X = data[:, :-1].astype(str)\n",
    "y = data[:, -1].astype(str)\n",
    "X_train, X_test, y_train, y_test = train_test_split(X, y, test_size=0.33, random_state=1)\n",
    "\n",
    "# 원시 훈련 데이터\n",
    "print(X_train[:5, :])\n",
    "\n",
    "# 원-핫 인코딩\n",
    "onehot_encoder = OneHotEncoder(sparse=False)\n",
    "onehot_encoder.fit(X_train)\n",
    "\n",
    "X_train = onehot_encoder.transform(X_train)\n",
    "X_test = onehot_encoder.transform(X_test)\n",
    "\n",
    "# 순서 인코딩된 훈련 데이터\n",
    "print(X_train[:5, :])\n",
    "\n",
    "# 순서 인코딩\n",
    "label_encoder = LabelEncoder()\n",
    "label_encoder.fit(y_train)\n",
    "\n",
    "y_train = label_encoder.transform(y_train)\n",
    "y_test = label_encoder.transform(y_test)\n",
    "\n",
    "# 로지스틱 회귀\n",
    "model = LogisticRegression()\n",
    "model.fit(X_train, y_train)\n",
    "\n",
    "# 모델 예측\n",
    "yhat = model.predict(X_test)\n",
    "\n",
    "# 예측 정확도\n",
    "accuracy = accuracy_score(y_test, yhat)\n",
    "print('Accuracy: %.2f' % (accuracy*100))"
   ]
  }
 ],
 "metadata": {
  "interpreter": {
   "hash": "31f2aee4e71d21fbe5cf8b01ff0e069b9275f58929596ceb00d14d90e3e16cd6"
  },
  "kernelspec": {
   "display_name": "Python 3.8.9 64-bit",
   "language": "python",
   "name": "python3"
  },
  "language_info": {
   "codemirror_mode": {
    "name": "ipython",
    "version": 3
   },
   "file_extension": ".py",
   "mimetype": "text/x-python",
   "name": "python",
   "nbconvert_exporter": "python",
   "pygments_lexer": "ipython3",
   "version": "3.8.9"
  },
  "orig_nbformat": 4
 },
 "nbformat": 4,
 "nbformat_minor": 2
}
