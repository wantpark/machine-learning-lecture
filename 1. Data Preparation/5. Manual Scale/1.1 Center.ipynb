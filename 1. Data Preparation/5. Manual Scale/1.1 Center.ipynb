{
  "cells": [
    {
      "cell_type": "markdown",
      "metadata": {
        "id": "hIk3vajEhFw1"
      },
      "source": [
        "##### 손으로 쓴 숫자 이미지 데이터"
      ]
    },
    {
      "cell_type": "code",
      "execution_count": 1,
      "metadata": {
        "colab": {
          "base_uri": "https://localhost:8080/"
        },
        "id": "p1P_iiLkg8lI",
        "outputId": "bded89e4-e7f0-4c69-eaab-056cb16a22c7"
      },
      "outputs": [
        {
          "name": "stdout",
          "output_type": "stream",
          "text": [
            "Downloading data from https://storage.googleapis.com/tensorflow/tf-keras-datasets/mnist.npz\n",
            "11493376/11490434 [==============================] - 0s 0us/step\n",
            "11501568/11490434 [==============================] - 0s 0us/step\n",
            "Train (60000, 28, 28) (60000,)\n",
            "Test ((10000, 28, 28), (10000,))\n",
            "Means train=33.318, test=33.791\n",
            "Data Generator Mean: 33.318\n",
            "Batch shape=(60000, 28, 28, 1), mean=-0.000\n",
            "Batches train=938, test=157\n",
            "Batch shape=(64, 28, 28, 1), mean=-1.864\n",
            "Epoch 1/5\n",
            "938/938 [==============================] - 17s 8ms/step - loss: 0.3694 - accuracy: 0.9344\n",
            "Epoch 2/5\n",
            "938/938 [==============================] - 7s 8ms/step - loss: 0.0655 - accuracy: 0.9801\n",
            "Epoch 3/5\n",
            "938/938 [==============================] - 7s 8ms/step - loss: 0.0469 - accuracy: 0.9855\n",
            "Epoch 4/5\n",
            "938/938 [==============================] - 7s 8ms/step - loss: 0.0407 - accuracy: 0.9880\n",
            "Epoch 5/5\n",
            "938/938 [==============================] - 7s 8ms/step - loss: 0.0367 - accuracy: 0.9888\n",
            "Test Accuracy: 98.650\n"
          ]
        }
      ],
      "source": [
        "from keras.datasets import mnist\n",
        "from tensorflow.keras.utils import to_categorical\n",
        "from keras.models import Sequential\n",
        "from keras.layers import Conv2D\n",
        "from keras.layers import MaxPooling2D\n",
        "from keras.layers import Dense\n",
        "from keras.layers import Flatten\n",
        "from keras.preprocessing.image import ImageDataGenerator\n",
        "\n",
        "# 데이터 세트 로드\n",
        "(trainX, trainY), (testX, testY) = mnist.load_data()\n",
        "\n",
        "# 데이터 세트 크기\n",
        "print('Train', trainX.shape, trainY.shape)\n",
        "print('Test', (testX.shape, testY.shape))\n",
        "# 이미지 정보 확인\n",
        "print('Means train=%.3f, test=%.3f' % (trainX.mean(), testX.mean()))\n",
        "\n",
        "# 데이터 세트 형태 변경\n",
        "width, height, channels = trainX.shape[1], trainX.shape[2], 1\n",
        "trainX = trainX.reshape((trainX.shape[0], width, height, channels))\n",
        "testX = testX.reshape((testX.shape[0], width, height, channels))\n",
        "\n",
        "# 원 핫 인코딩\n",
        "trainY = to_categorical(trainY)\n",
        "testY = to_categorical(testY)\n",
        "\n",
        "# 정규화\n",
        "datagen = ImageDataGenerator(featurewise_center=True)\n",
        "datagen.fit(trainX)\n",
        "print('Data Generator Mean: %.3f' % datagen.mean)\n",
        "\n",
        "# 이미지 전체에 대한 중앙값 확인\n",
        "iterator = datagen.flow(trainX, trainY, batch_size=len(trainX), shuffle=False)\n",
        "batchX, batchy = iterator.next()\n",
        "print('Batch shape=%s, mean=%.3f' % (batchX.shape, batchX.mean()))\n",
        "\n",
        "# 배치 사이즈 설정\n",
        "train_iterator = datagen.flow(trainX, trainY, batch_size=64)\n",
        "test_iterator = datagen.flow(testX, testY, batch_size=64)\n",
        "print('Batches train=%d, test=%d' % (len(train_iterator), len(test_iterator)))\n",
        "# 배치 정보 확인\n",
        "batchX, batchy = train_iterator.next()\n",
        "print('Batch shape=%s, mean=%.3f' % (batchX.shape, batchX.mean()))\n",
        "\n",
        "# 모델 정의\n",
        "model = Sequential()\n",
        "model.add(Conv2D(32, (3, 3), activation='relu', input_shape=(width, height, channels)))\n",
        "model.add(MaxPooling2D((2, 2)))\n",
        "model.add(Conv2D(64, (3, 3), activation='relu'))\n",
        "model.add(MaxPooling2D((2, 2)))\n",
        "model.add(Flatten())\n",
        "model.add(Dense(64, activation='relu'))\n",
        "model.add(Dense(10, activation='softmax'))\n",
        "# 모델 컴파일\n",
        "model.compile(optimizer='adam', loss='categorical_crossentropy', metrics=['accuracy'])\n",
        "# 모델 생성\n",
        "model.fit(train_iterator, steps_per_epoch=len(train_iterator), epochs=5)\n",
        "# 모델 평가\n",
        "_, acc = model.evaluate(test_iterator, steps=len(test_iterator), verbose=0)\n",
        "print('Test Accuracy: %.3f' % (acc * 100))"
      ]
    }
  ],
  "metadata": {
    "accelerator": "GPU",
    "colab": {
      "name": "1.1 Center.ipynb",
      "provenance": []
    },
    "kernelspec": {
      "display_name": "Python 3.8.9 64-bit",
      "language": "python",
      "name": "python3"
    },
    "language_info": {
      "name": "python",
      "version": "3.8.9"
    },
    "vscode": {
      "interpreter": {
        "hash": "31f2aee4e71d21fbe5cf8b01ff0e069b9275f58929596ceb00d14d90e3e16cd6"
      }
    }
  },
  "nbformat": 4,
  "nbformat_minor": 0
}
