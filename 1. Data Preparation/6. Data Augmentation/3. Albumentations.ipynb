{
 "cells": [
  {
   "cell_type": "markdown",
   "metadata": {},
   "source": [
    "##### 샘플 소스\n",
    "\n",
    "```\n",
    "https://gist.github.com/Lexie88rus/b6e66497a1b4b14aa01cc41e126a7c20\n",
    "```"
   ]
  },
  {
   "cell_type": "markdown",
   "metadata": {},
   "source": [
    "##### 원본 이미지\n",
    "\n",
    "```\n",
    "https://cutewallpaper.org/download.php?file=/23/aesthetic-sunflower-wallpaper-desktop/2946219066.jpg\n",
    "```"
   ]
  },
  {
   "cell_type": "code",
   "execution_count": null,
   "metadata": {},
   "outputs": [
    {
     "ename": "ModuleNotFoundError",
     "evalue": "No module named 'albumentations'",
     "output_type": "error",
     "traceback": [
      "\u001b[0;31m---------------------------------------------------------------------------\u001b[0m",
      "\u001b[0;31mModuleNotFoundError\u001b[0m                       Traceback (most recent call last)",
      "Cell \u001b[0;32mIn [1], line 1\u001b[0m\n\u001b[0;32m----> 1\u001b[0m \u001b[38;5;28;01mimport\u001b[39;00m \u001b[38;5;21;01malbumentations\u001b[39;00m \u001b[38;5;28;01mas\u001b[39;00m \u001b[38;5;21;01mA\u001b[39;00m\n\u001b[1;32m      2\u001b[0m \u001b[38;5;28;01mimport\u001b[39;00m \u001b[38;5;21;01mimageio\u001b[39;00m\n\u001b[1;32m      3\u001b[0m \u001b[38;5;28;01mfrom\u001b[39;00m \u001b[38;5;21;01mmatplotlib\u001b[39;00m \u001b[38;5;28;01mimport\u001b[39;00m pyplot\n",
      "\u001b[0;31mModuleNotFoundError\u001b[0m: No module named 'albumentations'"
     ]
    }
   ],
   "source": [
    "import albumentations as A\n",
    "import imageio\n",
    "from matplotlib import pyplot\n",
    "\n",
    "image = imageio.v2.imread(\"images/sunflower.jpg\")\n",
    "\n",
    "# Compose a complex augmentation pipeline\n",
    "augmentation_pipeline = A.Compose(\n",
    "    [\n",
    "        A.HorizontalFlip(p = 0.5), # apply horizontal flip to 50% of images\n",
    "        A.VerticalFlip(p = 0.5), # apply vertical flip to 50% of images\n",
    "        A.OneOf(\n",
    "            [\n",
    "                # apply one of transforms to 50% of images\n",
    "                A.RandomBrightnessContrast(), # apply random brightness contrast\n",
    "                A.RandomGamma(), # apply random gamma\n",
    "            ],\n",
    "            p = 0.5\n",
    "        ),\n",
    "        A.OneOf(\n",
    "            [\n",
    "                # apply one of transforms to 50% images\n",
    "                A.ElasticTransform(\n",
    "                    alpha = 120,\n",
    "                    sigma = 120 * 0.05,\n",
    "                    #alpha_affine = 120 * 0.03\n",
    "                ),\n",
    "                A.GridDistortion(),\n",
    "                A.OpticalDistortion(\n",
    "                    distort_limit = 2,\n",
    "                    #shift_limit = 0.5\n",
    "                ),\n",
    "            ],\n",
    "            p = 0.5\n",
    "        )\n",
    "    ],\n",
    "    p = 1\n",
    ")\n",
    "\n",
    "images_aug = [augmentation_pipeline(image = image)['image'] for _ in range(36)]\n",
    "\n",
    "pyplot.figure(figsize=(15, 11))\n",
    "\n",
    "for i in range(1, 37):\n",
    "    pyplot.subplot(6, 6, i)\n",
    "    pyplot.axis('off')\n",
    "    pyplot.tight_layout()\n",
    "    pyplot.imshow(images_aug[i - 1])"
   ]
  }
 ],
 "metadata": {
  "kernelspec": {
   "display_name": "Python 3",
   "language": "python",
   "name": "python3"
  },
  "language_info": {
   "codemirror_mode": {
    "name": "ipython",
    "version": 3
   },
   "file_extension": ".py",
   "mimetype": "text/x-python",
   "name": "python",
   "nbconvert_exporter": "python",
   "pygments_lexer": "ipython3",
   "version": "3.9.6"
  },
  "orig_nbformat": 4
 },
 "nbformat": 4,
 "nbformat_minor": 2
}
