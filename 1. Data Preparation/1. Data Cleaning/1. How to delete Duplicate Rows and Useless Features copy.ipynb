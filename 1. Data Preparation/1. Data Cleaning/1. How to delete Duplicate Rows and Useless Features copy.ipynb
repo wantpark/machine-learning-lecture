{
 "cells": [
  {
   "cell_type": "markdown",
   "metadata": {},
   "source": [
    "##### 기름 유출 데이터\n",
    "\n",
    "```\n",
    "단일값만 있는 특성\n",
    " - 22번\n",
    "```"
   ]
  },
  {
   "cell_type": "code",
   "execution_count": 1,
   "metadata": {},
   "outputs": [
    {
     "name": "stdout",
     "output_type": "stream",
     "text": [
      "0     238\n",
      "1     297\n",
      "2     927\n",
      "3     933\n",
      "4     179\n",
      "5     375\n",
      "6     820\n",
      "7     618\n",
      "8     561\n",
      "9      57\n",
      "10    577\n",
      "11     59\n",
      "12     73\n",
      "13    107\n",
      "14     53\n",
      "15     91\n",
      "16    893\n",
      "17    810\n",
      "18    170\n",
      "19     53\n",
      "20     68\n",
      "21      9\n",
      "22      1\n",
      "23     92\n",
      "24      9\n",
      "25      8\n",
      "26      9\n",
      "27    308\n",
      "28    447\n",
      "29    392\n",
      "30    107\n",
      "31     42\n",
      "32      4\n",
      "33     45\n",
      "34    141\n",
      "35    110\n",
      "36      3\n",
      "37    758\n",
      "38      9\n",
      "39      9\n",
      "40    388\n",
      "41    220\n",
      "42    644\n",
      "43    649\n",
      "44    499\n",
      "45      2\n",
      "46    937\n",
      "47    169\n",
      "48    286\n",
      "49      2\n",
      "dtype: int64\n"
     ]
    }
   ],
   "source": [
    "from pandas import read_csv\n",
    "\n",
    "# 기름 유출 데이터\n",
    "path = 'https://raw.githubusercontent.com/jbrownlee/Datasets/master/oil-spill.csv'\n",
    "# 데이터 세트 로드\n",
    "df = read_csv(path, header=None)\n",
    "\n",
    "# 각 특성의 고유값 개수 확인\n",
    "print(df.nunique())"
   ]
  },
  {
   "cell_type": "markdown",
   "metadata": {},
   "source": [
    "##### 기름 유출 데이터\n",
    "\n",
    "```\n",
    "단일값만 있는 특성 제거\n",
    " - 22번\n",
    "```"
   ]
  },
  {
   "cell_type": "code",
   "execution_count": 2,
   "metadata": {},
   "outputs": [
    {
     "name": "stdout",
     "output_type": "stream",
     "text": [
      "(937, 50)\n",
      "[22]\n",
      "(937, 49)\n"
     ]
    }
   ],
   "source": [
    "from pandas import read_csv\n",
    "\n",
    "# 기름 유출 데이터\n",
    "path = 'https://raw.githubusercontent.com/jbrownlee/Datasets/master/oil-spill.csv'\n",
    "# 데이터 세트 로드\n",
    "df = read_csv(path, header=None)\n",
    "\n",
    "# 데이터 개수와 특성 크기\n",
    "print(df.shape)\n",
    "\n",
    "# 각 특성의 고유값 개수\n",
    "counts = df.nunique()\n",
    "\n",
    "# 고유값이 1개인 특성 확인\n",
    "to_del = [column for column, value in enumerate(counts) if 1 == value]\n",
    "print(to_del)\n",
    "\n",
    "# 고유값이 1개인 특성 제거\n",
    "df.drop(to_del, axis=1, inplace=True)\n",
    "print(df.shape)"
   ]
  },
  {
   "cell_type": "markdown",
   "metadata": {},
   "source": [
    "##### 기름 유출 데이터\n",
    "\n",
    "```\n",
    "고유값 확인\n",
    "```"
   ]
  },
  {
   "cell_type": "code",
   "execution_count": 3,
   "metadata": {},
   "outputs": [
    {
     "name": "stdout",
     "output_type": "stream",
     "text": [
      "0, 238, 25.4%\n",
      "1, 297, 31.7%\n",
      "2, 927, 98.9%\n",
      "3, 933, 99.6%\n",
      "4, 179, 19.1%\n",
      "5, 375, 40.0%\n",
      "6, 820, 87.5%\n",
      "7, 618, 66.0%\n",
      "8, 561, 59.9%\n",
      "9, 57, 6.1%\n",
      "10, 577, 61.6%\n",
      "11, 59, 6.3%\n",
      "12, 73, 7.8%\n",
      "13, 107, 11.4%\n",
      "14, 53, 5.7%\n",
      "15, 91, 9.7%\n",
      "16, 893, 95.3%\n",
      "17, 810, 86.4%\n",
      "18, 170, 18.1%\n",
      "19, 53, 5.7%\n",
      "20, 68, 7.3%\n",
      "21, 9, 1.0%\n",
      "22, 1, 0.1%\n",
      "23, 92, 9.8%\n",
      "24, 9, 1.0%\n",
      "25, 8, 0.9%\n",
      "26, 9, 1.0%\n",
      "27, 308, 32.9%\n",
      "28, 447, 47.7%\n",
      "29, 392, 41.8%\n",
      "30, 107, 11.4%\n",
      "31, 42, 4.5%\n",
      "32, 4, 0.4%\n",
      "33, 45, 4.8%\n",
      "34, 141, 15.0%\n",
      "35, 110, 11.7%\n",
      "36, 3, 0.3%\n",
      "37, 758, 80.9%\n",
      "38, 9, 1.0%\n",
      "39, 9, 1.0%\n",
      "40, 388, 41.4%\n",
      "41, 220, 23.5%\n",
      "42, 644, 68.7%\n",
      "43, 649, 69.3%\n",
      "44, 499, 53.3%\n",
      "45, 2, 0.2%\n",
      "46, 937, 100.0%\n",
      "47, 169, 18.0%\n",
      "48, 286, 30.5%\n",
      "49, 2, 0.2%\n"
     ]
    }
   ],
   "source": [
    "from pandas import read_csv\n",
    "\n",
    "# 기름 유출 데이터\n",
    "path = 'https://raw.githubusercontent.com/jbrownlee/Datasets/master/oil-spill.csv'\n",
    "# 데이터 세트 로드\n",
    "df = read_csv(path, header=None)\n",
    "\n",
    "# 각 특성의 고유값 개수\n",
    "counts = df.nunique()\n",
    "\n",
    "# 각 특성의 고유값 비율\n",
    "for column in range(df.shape[1]):\n",
    "\tnum = counts[column]\n",
    "\tpercentage = float(num) / df.shape[0] * 100\n",
    "\n",
    "\tprint('%d, %d, %.1f%%' % (column, num, percentage))"
   ]
  },
  {
   "cell_type": "markdown",
   "metadata": {},
   "source": [
    "##### 기름 유출 데이터\n",
    "\n",
    "```\n",
    "고유값이 거의 없는 특성\n",
    " - 11개\n",
    "```"
   ]
  },
  {
   "cell_type": "code",
   "execution_count": 4,
   "metadata": {},
   "outputs": [
    {
     "name": "stdout",
     "output_type": "stream",
     "text": [
      "21, 9, 1.0%\n",
      "22, 1, 0.1%\n",
      "24, 9, 1.0%\n",
      "25, 8, 0.9%\n",
      "26, 9, 1.0%\n",
      "32, 4, 0.4%\n",
      "36, 3, 0.3%\n",
      "38, 9, 1.0%\n",
      "39, 9, 1.0%\n",
      "45, 2, 0.2%\n",
      "49, 2, 0.2%\n"
     ]
    }
   ],
   "source": [
    "from pandas import read_csv\n",
    "\n",
    "# 기름 유출 데이터\n",
    "path = 'https://raw.githubusercontent.com/jbrownlee/Datasets/master/oil-spill.csv'\n",
    "# 데이터 세트 로드\n",
    "df = read_csv(path, header=None)\n",
    "\n",
    "# 각 특성의 고유값 개수\n",
    "counts = df.nunique()\n",
    "\n",
    "# 각 특성의 고유값 비율\n",
    "for column in range(df.shape[1]):\n",
    "\tnum = counts[column]\n",
    "\tpercentage = float(num) / df.shape[0] * 100\n",
    "\n",
    "\tif percentage < 1:\n",
    "\t\tprint('%d, %d, %.1f%%' % (column, num, percentage))"
   ]
  },
  {
   "cell_type": "markdown",
   "metadata": {},
   "source": [
    "##### 기름 유출 데이터\n",
    "\n",
    "```\n",
    "고유값이 거의 없는 특성 제거\n",
    " - 11개\n",
    "```"
   ]
  },
  {
   "cell_type": "code",
   "execution_count": 5,
   "metadata": {},
   "outputs": [
    {
     "name": "stdout",
     "output_type": "stream",
     "text": [
      "(937, 50)\n",
      "[21, 22, 24, 25, 26, 32, 36, 38, 39, 45, 49]\n",
      "(937, 39)\n"
     ]
    }
   ],
   "source": [
    "from pandas import read_csv\n",
    "\n",
    "# 기름 유출 데이터\n",
    "path = 'https://raw.githubusercontent.com/jbrownlee/Datasets/master/oil-spill.csv'\n",
    "# 데이터 세트 로드\n",
    "df = read_csv(path, header=None)\n",
    "\n",
    "# 데이터 개수와 특성 크기\n",
    "print(df.shape)\n",
    "\n",
    "# 각 특성의 고유값 개수\n",
    "counts = df.nunique()\n",
    "\n",
    "# 고유값 비율이 1% 미만인 특성 확인\n",
    "to_del = [column for column, value in enumerate(counts) if (float(value) / df.shape[0] * 100) < 1]\n",
    "print(to_del)\n",
    "\n",
    "# 고유값 비율이 1% 미만인 특성 제거\n",
    "df.drop(to_del, axis=1, inplace=True)\n",
    "print(df.shape)"
   ]
  },
  {
   "cell_type": "markdown",
   "metadata": {},
   "source": [
    "#### 기름 유출 데이터\n",
    "\n",
    "```\n",
    "분산이 0인 특성 제거\n",
    "```"
   ]
  },
  {
   "cell_type": "code",
   "execution_count": 6,
   "metadata": {},
   "outputs": [
    {
     "name": "stdout",
     "output_type": "stream",
     "text": [
      "(937, 49)\n",
      "(937, 48)\n"
     ]
    }
   ],
   "source": [
    "from numpy import arange\n",
    "from pandas import read_csv\n",
    "from sklearn.feature_selection import VarianceThreshold\n",
    "from matplotlib import pyplot\n",
    "\n",
    "# 기름 유출 데이터\n",
    "path = 'https://raw.githubusercontent.com/jbrownlee/Datasets/master/oil-spill.csv'\n",
    "# 데이터 세트 로드\n",
    "df = read_csv(path, header=None)\n",
    "\n",
    "# 데이터 분할\n",
    "data = df.values\n",
    "X = data[:, :-1]\n",
    "\n",
    "# 데이터 특성 개수\n",
    "print(X.shape)\n",
    "\n",
    "# 분산을 기본값인 0으로 설정\n",
    "transform = VarianceThreshold()\n",
    "\n",
    "# 분산이 0인 특성 제거\n",
    "X_sel = transform.fit_transform(X)\n",
    "# 변환된 데이터 특성 개수\n",
    "print(X_sel.shape)"
   ]
  },
  {
   "cell_type": "markdown",
   "metadata": {},
   "source": [
    "#### 기름 유출 데이터\n",
    "\n",
    "```\n",
    "분산이 낮은 특성 확인\n",
    " - 14개\n",
    "```"
   ]
  },
  {
   "cell_type": "code",
   "execution_count": 7,
   "metadata": {},
   "outputs": [
    {
     "name": "stdout",
     "output_type": "stream",
     "text": [
      "(937, 49)\n",
      ">Threshold=0.00, Features=48\n",
      ">Threshold=0.05, Features=37\n",
      ">Threshold=0.10, Features=36\n",
      ">Threshold=0.15, Features=35\n",
      ">Threshold=0.20, Features=35\n",
      ">Threshold=0.25, Features=35\n",
      ">Threshold=0.30, Features=35\n",
      ">Threshold=0.35, Features=35\n",
      ">Threshold=0.40, Features=35\n",
      ">Threshold=0.45, Features=33\n",
      ">Threshold=0.50, Features=31\n"
     ]
    },
    {
     "data": {
      "image/png": "[encoded data removed]",
      "text/plain": [
       "<Figure size 432x288 with 1 Axes>"
      ]
     },
     "metadata": {
      "needs_background": "light"
     },
     "output_type": "display_data"
    }
   ],
   "source": [
    "from numpy import arange\n",
    "from pandas import read_csv\n",
    "from sklearn.feature_selection import VarianceThreshold\n",
    "from matplotlib import pyplot\n",
    "\n",
    "# 기름 유출 데이터\n",
    "path = 'https://raw.githubusercontent.com/jbrownlee/Datasets/master/oil-spill.csv'\n",
    "# 데이터 세트 로드\n",
    "df = read_csv(path, header=None)\n",
    "\n",
    "# 데이터 분할\n",
    "data = df.values\n",
    "X = data[:, :-1]\n",
    "\n",
    "# 데이터 특성 개수\n",
    "print(X.shape)\n",
    "\n",
    "# 분산의 임계값들 (0.0부터 0.5까지 총 11개)\n",
    "thresholds = arange(0.0, 0.55, 0.05)\n",
    "\n",
    "# 결과 저장 \n",
    "results = list()\n",
    "\n",
    "for threshold in thresholds:\n",
    "\t# 분산 설정 (0.0부터 0.05 증가하여 0.5까지)\n",
    "\ttransform = VarianceThreshold(threshold=threshold)\n",
    "\t# 설정된 분산 이하의 특성 제거\n",
    "\tX_sel = transform.fit_transform(X)\n",
    "\t# 설정된 분산보다 큰 특성의 개수\n",
    "\tn_features = X_sel.shape[1]\n",
    "\tprint('>Threshold=%.2f, Features=%d' % (threshold, n_features))\n",
    "\t# 결과 저장\n",
    "\tresults.append(n_features)\n",
    "\n",
    "# 분산의 임계값과 설정된 분산보다 큰 특성의 개수\n",
    "pyplot.plot(thresholds, results)\n",
    "pyplot.show()"
   ]
  },
  {
   "cell_type": "markdown",
   "metadata": {},
   "source": [
    "#### 당뇨병 데이터\n",
    "\n",
    "```\n",
    "분산이 낮은 특성 확인\n",
    " - 1개\n",
    "```"
   ]
  },
  {
   "cell_type": "code",
   "execution_count": 8,
   "metadata": {},
   "outputs": [
    {
     "name": "stdout",
     "output_type": "stream",
     "text": [
      "(768, 8)\n",
      ">Threshold=0.00, Features=8\n",
      ">Threshold=0.05, Features=8\n",
      ">Threshold=0.10, Features=8\n",
      ">Threshold=0.15, Features=7\n",
      ">Threshold=0.20, Features=7\n",
      ">Threshold=0.25, Features=7\n",
      ">Threshold=0.30, Features=7\n",
      ">Threshold=0.35, Features=7\n",
      ">Threshold=0.40, Features=7\n",
      ">Threshold=0.45, Features=7\n",
      ">Threshold=0.50, Features=7\n"
     ]
    },
    {
     "data": {
      "image/png": "[encoded data removed]",
      "text/plain": [
       "<Figure size 432x288 with 1 Axes>"
      ]
     },
     "metadata": {
      "needs_background": "light"
     },
     "output_type": "display_data"
    }
   ],
   "source": [
    "from numpy import arange\n",
    "from pandas import read_csv\n",
    "from sklearn.feature_selection import VarianceThreshold\n",
    "from matplotlib import pyplot\n",
    "\n",
    "# 당뇨병 데이터\n",
    "path = 'https://raw.githubusercontent.com/MausamGaurav/AutomatedFeatureSelection/master/diabetes.csv'\n",
    "# 데이터 세트 로드\n",
    "df = read_csv(path, header=None)\n",
    "\n",
    "# 데이터 분할\n",
    "data = df.values\n",
    "X = data[:, :-1]\n",
    "\n",
    "# 데이터 특성 개수\n",
    "print(X.shape)\n",
    "\n",
    "# 분산의 임계값들 (0.0부터 0.5까지 총 11개)\n",
    "thresholds = arange(0.0, 0.55, 0.05)\n",
    "\n",
    "# 결과 저장 \n",
    "results = list()\n",
    "\n",
    "for threshold in thresholds:\n",
    "\t# 분산 설정 (0.0부터 0.05 증가하여 0.5까지)\n",
    "\ttransform = VarianceThreshold(threshold=threshold)\n",
    "\t# 설정된 분산 이하의 특성 제거\n",
    "\tX_sel = transform.fit_transform(X)\n",
    "\t# 설정된 분산보다 큰 특성의 개수\n",
    "\tn_features = X_sel.shape[1]\n",
    "\tprint('>Threshold=%.2f, Features=%d' % (threshold, n_features))\n",
    "\t# 결과 저장\n",
    "\tresults.append(n_features)\n",
    "\n",
    "# 분산의 임계값과 설정된 분산보다 큰 특성의 개수\n",
    "pyplot.plot(thresholds, results)\n",
    "pyplot.show()"
   ]
  },
  {
   "cell_type": "markdown",
   "metadata": {},
   "source": [
    "#### 붓꽃 데이터\n",
    "\n",
    "```\n",
    "중복값이 있는 특성 확인\n",
    " - 34, 37, 142번\n",
    "```"
   ]
  },
  {
   "cell_type": "code",
   "execution_count": 9,
   "metadata": {},
   "outputs": [
    {
     "name": "stdout",
     "output_type": "stream",
     "text": [
      "True\n",
      "       0    1    2    3               4\n",
      "34   4.9  3.1  1.5  0.1     Iris-setosa\n",
      "37   4.9  3.1  1.5  0.1     Iris-setosa\n",
      "142  5.8  2.7  5.1  1.9  Iris-virginica\n"
     ]
    }
   ],
   "source": [
    "from pandas import read_csv\n",
    "\n",
    "# 붓꽃 데이터\n",
    "path = 'https://raw.githubusercontent.com/jbrownlee/Datasets/master/iris.csv'\n",
    "# 데이터 세트 로드\n",
    "df = read_csv(path, header=None)\n",
    "\n",
    "# 중복값 확인\n",
    "dups = df.duplicated()\n",
    "# 중복값이 하나라도 있으면 True, 그렇지 않으면 False \n",
    "print(dups.any())\n",
    "\n",
    "# 중복값이 있는 데이터\n",
    "print(df[dups])"
   ]
  },
  {
   "cell_type": "markdown",
   "metadata": {},
   "source": [
    "#### 붓꽃 데이터\n",
    "\n",
    "```\n",
    "중복값이 있는 특성 제거\n",
    " - 34, 37, 142번\n",
    "```"
   ]
  },
  {
   "cell_type": "code",
   "execution_count": 10,
   "metadata": {},
   "outputs": [
    {
     "name": "stdout",
     "output_type": "stream",
     "text": [
      "(150, 5)\n",
      "(147, 5)\n"
     ]
    }
   ],
   "source": [
    "from pandas import read_csv\n",
    "\n",
    "# 붓꽃 데이터\n",
    "path = 'https://raw.githubusercontent.com/jbrownlee/Datasets/master/iris.csv'\n",
    "# 데이터 세트 로드\n",
    "df = read_csv(path, header=None)\n",
    "print(df.shape)\n",
    "\n",
    "# 중복값 제거\n",
    "df.drop_duplicates(inplace=True)\n",
    "print(df.shape)"
   ]
  }
 ],
 "metadata": {
  "interpreter": {
   "hash": "31f2aee4e71d21fbe5cf8b01ff0e069b9275f58929596ceb00d14d90e3e16cd6"
  },
  "kernelspec": {
   "display_name": "Python 3.8.9 64-bit",
   "language": "python",
   "name": "python3"
  },
  "language_info": {
   "codemirror_mode": {
    "name": "ipython",
    "version": 3
   },
   "file_extension": ".py",
   "mimetype": "text/x-python",
   "name": "python",
   "nbconvert_exporter": "python",
   "pygments_lexer": "ipython3",
   "version": "3.8.9"
  },
  "orig_nbformat": 4
 },
 "nbformat": 4,
 "nbformat_minor": 2
}
