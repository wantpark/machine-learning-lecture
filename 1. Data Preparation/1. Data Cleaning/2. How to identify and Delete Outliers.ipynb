{
 "cells": [
  {
   "cell_type": "markdown",
   "metadata": {},
   "source": [
    "##### 보스턴 주택 가격 데이터\n",
    "\n",
    "```\n",
    "평균 절대값 오차\n",
    " - 3.417\n",
    "```"
   ]
  },
  {
   "cell_type": "code",
   "execution_count": 1,
   "metadata": {},
   "outputs": [
    {
     "name": "stdout",
     "output_type": "stream",
     "text": [
      "MAE: 3.417\n"
     ]
    }
   ],
   "source": [
    "from pandas import read_csv\n",
    "from sklearn.model_selection import train_test_split\n",
    "from sklearn.linear_model import LinearRegression\n",
    "from sklearn.metrics import mean_absolute_error\n",
    "\n",
    "# 보스턴 주택 가격 데이터\n",
    "url = 'https://raw.githubusercontent.com/jbrownlee/Datasets/master/housing.csv'\n",
    "# 데이터 세트 로드\n",
    "df = read_csv(url, header=None)\n",
    "data = df.values\n",
    "\n",
    "# 데이터 분할\n",
    "X, y = data[:, :-1], data[:, -1]\n",
    "X_train, X_test, y_train, y_test = train_test_split(X, y, test_size=0.33, random_state=1)\n",
    "\n",
    "# 선형회귀\n",
    "model = LinearRegression()\n",
    "model.fit(X_train, y_train)\n",
    "\n",
    "# 모델 예측 \n",
    "yhat = model.predict(X_test)\n",
    "\n",
    "# 실제값과 예측값의 평균 절대값 오차\n",
    "mae = mean_absolute_error(y_test, yhat)\n",
    "print('MAE: %.3f' % mae)"
   ]
  },
  {
   "cell_type": "markdown",
   "metadata": {},
   "source": [
    "##### 보스턴 주택 가격 데이터\n",
    "\n",
    "```\n",
    "Local Outlier Factor\n",
    " - 3.356\n",
    "```"
   ]
  },
  {
   "cell_type": "code",
   "execution_count": 1,
   "metadata": {},
   "outputs": [
    {
     "name": "stdout",
     "output_type": "stream",
     "text": [
      "339\n",
      "305\n",
      "MAE: 3.356\n"
     ]
    }
   ],
   "source": [
    "from pandas import read_csv\n",
    "from sklearn.model_selection import train_test_split\n",
    "from sklearn.linear_model import LinearRegression\n",
    "from sklearn.neighbors import LocalOutlierFactor\n",
    "from sklearn.metrics import mean_absolute_error\n",
    "\n",
    "# 보스턴 주택 가격 데이터\n",
    "url = 'https://raw.githubusercontent.com/jbrownlee/Datasets/master/housing.csv'\n",
    "# 데이터 세트 로드\n",
    "df = read_csv(url, header=None)\n",
    "data = df.values\n",
    "\n",
    "# 데이터 분할\n",
    "X, y = data[:, :-1], data[:, -1]\n",
    "X_train, X_test, y_train, y_test = train_test_split(X, y, test_size=0.33, random_state=1)\n",
    "# 훈련 데이터 크기 \n",
    "print(X_train.shape[0])\n",
    "\n",
    "# Local Outlier Factor를 사용하여 이상값 제거\n",
    "lof = LocalOutlierFactor()\n",
    "yhat = lof.fit_predict(X_train)\n",
    "\n",
    "# 이상값이 아닌 특성들\n",
    "mask = yhat != -1\n",
    "X_train, y_train = X_train[mask, :], y_train[mask]\n",
    "# 이상값이 제거된 훈련 데이터 크기\n",
    "print(X_train.shape[0])\n",
    "\n",
    "# 선형회귀\n",
    "model = LinearRegression()\n",
    "model.fit(X_train, y_train)\n",
    "\n",
    "# 모델 예측 \n",
    "yhat = model.predict(X_test)\n",
    "\n",
    "# 실제값과 예측값의 평균 절대값 오차\n",
    "mae = mean_absolute_error(y_test, yhat)\n",
    "print('MAE: %.3f' % mae)"
   ]
  },
  {
   "cell_type": "markdown",
   "metadata": {},
   "source": [
    "##### 보스턴 주택 가격 데이터\n",
    "\n",
    "```\n",
    "Isolation Forest\n",
    " - 3.189\n",
    "```"
   ]
  },
  {
   "cell_type": "code",
   "execution_count": 18,
   "metadata": {},
   "outputs": [
    {
     "name": "stdout",
     "output_type": "stream",
     "text": [
      "339\n",
      "305\n",
      "MAE: 3.203\n"
     ]
    }
   ],
   "source": [
    "from pandas import read_csv\n",
    "from sklearn.model_selection import train_test_split\n",
    "from sklearn.linear_model import LinearRegression\n",
    "from sklearn.ensemble import IsolationForest\n",
    "from sklearn.metrics import mean_absolute_error\n",
    "\n",
    "# 보스턴 주택 가격 데이터\n",
    "url = 'https://raw.githubusercontent.com/jbrownlee/Datasets/master/housing.csv'\n",
    "# 데이터 세트 로드\n",
    "df = read_csv(url, header=None)\n",
    "data = df.values\n",
    "\n",
    "# 데이터 분할\n",
    "X, y = data[:, :-1], data[:, -1]\n",
    "X_train, X_test, y_train, y_test = train_test_split(X, y, test_size=0.33, random_state=1)\n",
    "# 훈련 데이터 크기 \n",
    "print(X_train.shape[0])\n",
    "\n",
    "# Isolation Forest를 사용하여 이상값 제거\n",
    "# 데이터 세트의 오염 정도를 0.1로 설정(데이터 세트의 이상값을 10%로 설정)\n",
    "iso = IsolationForest(contamination=0.1)\n",
    "yhat = iso.fit_predict(X_train)\n",
    "\n",
    "# 이상값이 아닌 특성들\n",
    "mask = yhat != -1\n",
    "X_train, y_train = X_train[mask, :], y_train[mask]\n",
    "# 이상값이 제거된 훈련 데이터 크기\n",
    "print(X_train.shape[0])\n",
    "\n",
    "# 선형회귀\n",
    "model = LinearRegression()\n",
    "model.fit(X_train, y_train)\n",
    "\n",
    "# 모델 예측 \n",
    "yhat = model.predict(X_test)\n",
    "\n",
    "# 실제값과 예측값의 평균 절대값 오차\n",
    "mae = mean_absolute_error(y_test, yhat)\n",
    "print('MAE: %.3f' % mae)"
   ]
  },
  {
   "cell_type": "markdown",
   "metadata": {},
   "source": [
    "##### 보스턴 주택 가격 데이터\n",
    "\n",
    "```\n",
    "Minimum Covariance Determinant\n",
    " - 3.388\n",
    "```"
   ]
  },
  {
   "cell_type": "code",
   "execution_count": 20,
   "metadata": {},
   "outputs": [
    {
     "name": "stdout",
     "output_type": "stream",
     "text": [
      "339\n",
      "335\n",
      "MAE: 3.388\n"
     ]
    }
   ],
   "source": [
    "from pandas import read_csv\n",
    "from sklearn.model_selection import train_test_split\n",
    "from sklearn.linear_model import LinearRegression\n",
    "from sklearn.covariance import EllipticEnvelope\n",
    "from sklearn.metrics import mean_absolute_error\n",
    "\n",
    "# 보스턴 주택 가격 데이터\n",
    "url = 'https://raw.githubusercontent.com/jbrownlee/Datasets/master/housing.csv'\n",
    "# 데이터 세트 로드\n",
    "df = read_csv(url, header=None)\n",
    "data = df.values\n",
    "\n",
    "# 데이터 분할\n",
    "X, y = data[:, :-1], data[:, -1]\n",
    "X_train, X_test, y_train, y_test = train_test_split(X, y, test_size=0.33, random_state=1)\n",
    "# 훈련 데이터 크기 \n",
    "print(X_train.shape[0])\n",
    "\n",
    "# Minimum Covariance Determinant를 사용하여 이상값 제거\n",
    "# 데이터 세트의 오염 정도를 0.01로 설정(데이터 세트의 이상값을 1%로 설정)\n",
    "ee = EllipticEnvelope(contamination=0.01)\n",
    "yhat = ee.fit_predict(X_train)\n",
    "\n",
    "# 이상값이 아닌 특성들\n",
    "mask = yhat != -1\n",
    "X_train, y_train = X_train[mask, :], y_train[mask]\n",
    "# 이상값이 제거된 훈련 데이터 크기\n",
    "print(X_train.shape[0])\n",
    "\n",
    "# 선형회귀\n",
    "model = LinearRegression()\n",
    "model.fit(X_train, y_train)\n",
    "\n",
    "# 모델 예측 \n",
    "yhat = model.predict(X_test)\n",
    "\n",
    "# 실제값과 예측값의 평균 절대값 오차\n",
    "mae = mean_absolute_error(y_test, yhat)\n",
    "print('MAE: %.3f' % mae)"
   ]
  },
  {
   "cell_type": "markdown",
   "metadata": {},
   "source": [
    "##### 보스턴 주택 가격 데이터\n",
    "\n",
    "```\n",
    "One-Class SVM\n",
    " - 3.431\n",
    "```"
   ]
  },
  {
   "cell_type": "code",
   "execution_count": 21,
   "metadata": {},
   "outputs": [
    {
     "name": "stdout",
     "output_type": "stream",
     "text": [
      "339\n",
      "336\n",
      "MAE: 3.431\n"
     ]
    }
   ],
   "source": [
    "from pandas import read_csv\n",
    "from sklearn.model_selection import train_test_split\n",
    "from sklearn.linear_model import LinearRegression\n",
    "from sklearn.svm import OneClassSVM\n",
    "from sklearn.metrics import mean_absolute_error\n",
    "\n",
    "# 보스턴 주택 가격 데이터\n",
    "url = 'https://raw.githubusercontent.com/jbrownlee/Datasets/master/housing.csv'\n",
    "# 데이터 세트 로드\n",
    "df = read_csv(url, header=None)\n",
    "data = df.values\n",
    "\n",
    "# 데이터 분할\n",
    "X, y = data[:, :-1], data[:, -1]\n",
    "X_train, X_test, y_train, y_test = train_test_split(X, y, test_size=0.33, random_state=1)\n",
    "# 훈련 데이터 크기 \n",
    "print(X_train.shape[0])\n",
    "\n",
    "# One-Class SVM를 사용하여 이상값 제거\n",
    "# 데이터 세트의 오염 정도를 0.01로 설정(데이터 세트의 이상값을 1%로 설정)\n",
    "ocs = OneClassSVM(nu=0.01)\n",
    "yhat = ocs.fit_predict(X_train)\n",
    "\n",
    "# 이상값이 아닌 특성들\n",
    "mask = yhat != -1\n",
    "X_train, y_train = X_train[mask, :], y_train[mask]\n",
    "# 이상값이 제거된 훈련 데이터 크기\n",
    "print(X_train.shape[0])\n",
    "\n",
    "# 선형회귀\n",
    "model = LinearRegression()\n",
    "model.fit(X_train, y_train)\n",
    "\n",
    "# 모델 예측 \n",
    "yhat = model.predict(X_test)\n",
    "\n",
    "# 실제값과 예측값의 평균 절대값 오차\n",
    "mae = mean_absolute_error(y_test, yhat)\n",
    "print('MAE: %.3f' % mae)"
   ]
  }
 ],
 "metadata": {
  "interpreter": {
   "hash": "31f2aee4e71d21fbe5cf8b01ff0e069b9275f58929596ceb00d14d90e3e16cd6"
  },
  "kernelspec": {
   "display_name": "Python 3.8.9 64-bit",
   "language": "python",
   "name": "python3"
  },
  "language_info": {
   "codemirror_mode": {
    "name": "ipython",
    "version": 3
   },
   "file_extension": ".py",
   "mimetype": "text/x-python",
   "name": "python",
   "nbconvert_exporter": "python",
   "pygments_lexer": "ipython3",
   "version": "3.8.9"
  },
  "orig_nbformat": 4
 },
 "nbformat": 4,
 "nbformat_minor": 2
}
