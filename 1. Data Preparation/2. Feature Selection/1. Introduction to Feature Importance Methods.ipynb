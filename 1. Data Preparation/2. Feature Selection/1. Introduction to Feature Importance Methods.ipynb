{
 "cells": [
  {
   "cell_type": "markdown",
   "metadata": {},
   "source": [
    "##### 의사 결정 나무 회귀"
   ]
  },
  {
   "cell_type": "code",
   "execution_count": 7,
   "metadata": {},
   "outputs": [
    {
     "name": "stdout",
     "output_type": "stream",
     "text": [
      "Feature: 0, Score: 0.00277\n",
      "Feature: 1, Score: 0.00452\n",
      "Feature: 2, Score: 0.00180\n",
      "Feature: 3, Score: 0.00232\n",
      "Feature: 4, Score: 0.51772\n",
      "Feature: 5, Score: 0.43755\n",
      "Feature: 6, Score: 0.02698\n",
      "Feature: 7, Score: 0.00230\n",
      "Feature: 8, Score: 0.00259\n",
      "Feature: 9, Score: 0.00145\n"
     ]
    },
    {
     "data": {
      "image/png": "[encoded data removed]",
      "text/plain": [
       "<Figure size 432x288 with 1 Axes>"
      ]
     },
     "metadata": {
      "needs_background": "light"
     },
     "output_type": "display_data"
    }
   ],
   "source": [
    "from sklearn.datasets import make_regression\n",
    "from sklearn.tree import DecisionTreeRegressor\n",
    "from matplotlib import pyplot\n",
    "\n",
    "# 데이터 세트\n",
    "X, y = make_regression(n_samples=1000, n_features=10, n_informative=5, random_state=1)\n",
    "\n",
    "# 의사 결정 나무 회귀\n",
    "model = DecisionTreeRegressor()\n",
    "model.fit(X, y)\n",
    "\n",
    "# 특성 중요도\n",
    "importance = model.feature_importances_\n",
    "\n",
    "# 특성 중요도 확인\n",
    "for index, value in enumerate(importance):\n",
    "\tprint('Feature: %0d, Score: %.5f' % (index, value))\n",
    "\n",
    "# 특성 중요도 도표 \n",
    "pyplot.bar([index for index in range(len(importance))], importance)\n",
    "pyplot.show()"
   ]
  },
  {
   "cell_type": "markdown",
   "metadata": {},
   "source": [
    "##### 의사 결정 나무 분류"
   ]
  },
  {
   "cell_type": "code",
   "execution_count": 8,
   "metadata": {},
   "outputs": [
    {
     "name": "stdout",
     "output_type": "stream",
     "text": [
      "Feature: 0, Score: 0.01234\n",
      "Feature: 1, Score: 0.01626\n",
      "Feature: 2, Score: 0.17911\n",
      "Feature: 3, Score: 0.30965\n",
      "Feature: 4, Score: 0.08124\n",
      "Feature: 5, Score: 0.00667\n",
      "Feature: 6, Score: 0.16731\n",
      "Feature: 7, Score: 0.05703\n",
      "Feature: 8, Score: 0.13597\n",
      "Feature: 9, Score: 0.03442\n"
     ]
    },
    {
     "data": {
      "image/png": "[encoded data removed]",
      "text/plain": [
       "<Figure size 432x288 with 1 Axes>"
      ]
     },
     "metadata": {
      "needs_background": "light"
     },
     "output_type": "display_data"
    }
   ],
   "source": [
    "from sklearn.datasets import make_classification\n",
    "from sklearn.tree import DecisionTreeClassifier\n",
    "from matplotlib import pyplot\n",
    "\n",
    "# 데이터 세트\n",
    "X, y = make_classification(n_samples=1000, n_features=10, n_informative=5, n_redundant=5, random_state=1)\n",
    "\n",
    "# 의사 결정 나무 분류\n",
    "model = DecisionTreeClassifier()\n",
    "model.fit(X, y)\n",
    "\n",
    "# 특성 중요도\n",
    "importance = model.feature_importances_\n",
    "\n",
    "# 특성 중요도 확인\n",
    "for i,v in enumerate(importance):\n",
    "\tprint('Feature: %0d, Score: %.5f' % (i,v))\n",
    "# 특성 중요도 도표\n",
    "pyplot.bar([x for x in range(len(importance))], importance)\n",
    "pyplot.show()"
   ]
  },
  {
   "cell_type": "markdown",
   "metadata": {},
   "source": [
    "##### 랜덤 포레스트 회귀"
   ]
  },
  {
   "cell_type": "code",
   "execution_count": 9,
   "metadata": {},
   "outputs": [
    {
     "name": "stdout",
     "output_type": "stream",
     "text": [
      "Feature: 0, Score: 0.00303\n",
      "Feature: 1, Score: 0.00560\n",
      "Feature: 2, Score: 0.00299\n",
      "Feature: 3, Score: 0.00283\n",
      "Feature: 4, Score: 0.53188\n",
      "Feature: 5, Score: 0.41924\n",
      "Feature: 6, Score: 0.02581\n",
      "Feature: 7, Score: 0.00278\n",
      "Feature: 8, Score: 0.00303\n",
      "Feature: 9, Score: 0.00279\n"
     ]
    },
    {
     "data": {
      "image/png": "[encoded data removed]",
      "text/plain": [
       "<Figure size 432x288 with 1 Axes>"
      ]
     },
     "metadata": {
      "needs_background": "light"
     },
     "output_type": "display_data"
    }
   ],
   "source": [
    "from sklearn.datasets import make_regression\n",
    "from sklearn.ensemble import RandomForestRegressor\n",
    "from matplotlib import pyplot\n",
    "\n",
    "# 데이터 세트\n",
    "X, y = make_regression(n_samples=1000, n_features=10, n_informative=5, random_state=1)\n",
    "\n",
    "# 랜덤 포레스트 회귀\n",
    "model = RandomForestRegressor()\n",
    "model.fit(X, y)\n",
    "\n",
    "# 특성 중요도\n",
    "importance = model.feature_importances_\n",
    "\n",
    "# 특성 중요도 확인\n",
    "for index, value in enumerate(importance):\n",
    "\tprint('Feature: %0d, Score: %.5f' % (index, value))\n",
    "\n",
    "# 특성 중요도 도표\n",
    "pyplot.bar([index for index in range(len(importance))], importance)\n",
    "pyplot.show()"
   ]
  },
  {
   "cell_type": "markdown",
   "metadata": {},
   "source": [
    "##### 랜덤 포레스트 분류"
   ]
  },
  {
   "cell_type": "code",
   "execution_count": 10,
   "metadata": {},
   "outputs": [
    {
     "name": "stdout",
     "output_type": "stream",
     "text": [
      "Feature: 0, Score: 0.06336\n",
      "Feature: 1, Score: 0.11004\n",
      "Feature: 2, Score: 0.16037\n",
      "Feature: 3, Score: 0.18668\n",
      "Feature: 4, Score: 0.07487\n",
      "Feature: 5, Score: 0.11294\n",
      "Feature: 6, Score: 0.10256\n",
      "Feature: 7, Score: 0.05213\n",
      "Feature: 8, Score: 0.08905\n",
      "Feature: 9, Score: 0.04801\n"
     ]
    },
    {
     "data": {
      "image/png": "[encoded data removed]",
      "text/plain": [
       "<Figure size 432x288 with 1 Axes>"
      ]
     },
     "metadata": {
      "needs_background": "light"
     },
     "output_type": "display_data"
    }
   ],
   "source": [
    "from sklearn.datasets import make_classification\n",
    "from sklearn.ensemble import RandomForestClassifier\n",
    "from matplotlib import pyplot\n",
    "\n",
    "# 데이터 세트\n",
    "X, y = make_classification(n_samples=1000, n_features=10, n_informative=5, n_redundant=5, random_state=1)\n",
    "\n",
    "# 랜덤 포레스트 분류\n",
    "model = RandomForestClassifier()\n",
    "model.fit(X, y)\n",
    "\n",
    "# 특성 중요도\n",
    "importance = model.feature_importances_\n",
    "\n",
    "# 특성 중요도 확인\n",
    "for index, value in enumerate(importance):\n",
    "\tprint('Feature: %0d, Score: %.5f' % (index, value))\n",
    "\n",
    "# 특성 중요도 도표\n",
    "pyplot.bar([index for index in range(len(importance))], importance)\n",
    "pyplot.show()"
   ]
  },
  {
   "cell_type": "markdown",
   "metadata": {},
   "source": [
    "##### 순열 회귀"
   ]
  },
  {
   "cell_type": "code",
   "execution_count": 11,
   "metadata": {},
   "outputs": [
    {
     "name": "stdout",
     "output_type": "stream",
     "text": [
      "Feature: 0, Score: 116.45046\n",
      "Feature: 1, Score: 315.20337\n",
      "Feature: 2, Score: 185.63813\n",
      "Feature: 3, Score: -8.68239\n",
      "Feature: 4, Score: 9755.61326\n",
      "Feature: 5, Score: 8400.66197\n",
      "Feature: 6, Score: 916.89720\n",
      "Feature: 7, Score: 123.35906\n",
      "Feature: 8, Score: 106.54251\n",
      "Feature: 9, Score: 81.21506\n"
     ]
    },
    {
     "data": {
      "image/png": "[encoded data removed]",
      "text/plain": [
       "<Figure size 432x288 with 1 Axes>"
      ]
     },
     "metadata": {
      "needs_background": "light"
     },
     "output_type": "display_data"
    }
   ],
   "source": [
    "from sklearn.datasets import make_regression\n",
    "from sklearn.neighbors import KNeighborsRegressor\n",
    "from sklearn.inspection import permutation_importance\n",
    "from matplotlib import pyplot\n",
    "\n",
    "# 데이터 세트\n",
    "X, y = make_regression(n_samples=1000, n_features=10, n_informative=5, random_state=1)\n",
    "\n",
    "# k최접근 이웃 회귀\n",
    "model = KNeighborsRegressor()\n",
    "model.fit(X, y)\n",
    "\n",
    "# 순열 중요도\n",
    "results = permutation_importance(model, X, y, scoring='neg_mean_squared_error')\n",
    "# 특성 중요도\n",
    "importance = results.importances_mean\n",
    "\n",
    "# 특성 중요도 확인\n",
    "for index, value in enumerate(importance):\n",
    "\tprint('Feature: %0d, Score: %.5f' % (index, value))\n",
    "\n",
    "# 특성 중요도 도표\n",
    "pyplot.bar([index for index in range(len(importance))], importance)\n",
    "pyplot.show()"
   ]
  },
  {
   "cell_type": "markdown",
   "metadata": {},
   "source": [
    "##### 순열 분류"
   ]
  },
  {
   "cell_type": "code",
   "execution_count": 12,
   "metadata": {},
   "outputs": [
    {
     "name": "stdout",
     "output_type": "stream",
     "text": [
      "Feature: 0, Score: 0.04980\n",
      "Feature: 1, Score: 0.06460\n",
      "Feature: 2, Score: 0.05380\n",
      "Feature: 3, Score: 0.08940\n",
      "Feature: 4, Score: 0.04820\n",
      "Feature: 5, Score: 0.05800\n",
      "Feature: 6, Score: 0.07160\n",
      "Feature: 7, Score: 0.05500\n",
      "Feature: 8, Score: 0.05620\n",
      "Feature: 9, Score: 0.03440\n"
     ]
    },
    {
     "data": {
      "image/png": "[encoded data removed]",
      "text/plain": [
       "<Figure size 432x288 with 1 Axes>"
      ]
     },
     "metadata": {
      "needs_background": "light"
     },
     "output_type": "display_data"
    }
   ],
   "source": [
    "from sklearn.datasets import make_classification\n",
    "from sklearn.neighbors import KNeighborsClassifier\n",
    "from sklearn.inspection import permutation_importance\n",
    "from matplotlib import pyplot\n",
    "\n",
    "# 데이터 세트\n",
    "X, y = make_classification(n_samples=1000, n_features=10, n_informative=5, n_redundant=5, random_state=1)\n",
    "\n",
    "# k최접근 이웃 분류\n",
    "model = KNeighborsClassifier()\n",
    "model.fit(X, y)\n",
    "\n",
    "# 순열 중요도\n",
    "results = permutation_importance(model, X, y, scoring='accuracy')\n",
    "# 특성 중요도\n",
    "importance = results.importances_mean\n",
    "\n",
    "# 특성 중요도 확인\n",
    "for index, value in enumerate(importance):\n",
    "\tprint('Feature: %0d, Score: %.5f' % (index, value))\n",
    "\n",
    "# 특성 중요도 도표\n",
    "pyplot.bar([index for index in range(len(importance))], importance)\n",
    "pyplot.show()"
   ]
  },
  {
   "cell_type": "markdown",
   "metadata": {},
   "source": [
    "로지스틱 회귀\n",
    "\n",
    "```\n",
    "특성 10개\n",
    "- 분류 정확도 : 84.55%\n",
    "```"
   ]
  },
  {
   "cell_type": "code",
   "execution_count": 13,
   "metadata": {},
   "outputs": [
    {
     "name": "stdout",
     "output_type": "stream",
     "text": [
      "Accuracy: 84.55\n",
      "\n",
      "Feature: 0, Score: 0.16288\n",
      "Feature: 1, Score: -0.59056\n",
      "Feature: 2, Score: 0.43379\n",
      "Feature: 3, Score: -0.42731\n",
      "Feature: 4, Score: 0.18158\n",
      "Feature: 5, Score: -0.12049\n",
      "Feature: 6, Score: -0.37460\n",
      "Feature: 7, Score: 0.02165\n",
      "Feature: 8, Score: -0.47699\n",
      "Feature: 9, Score: 0.23124\n"
     ]
    },
    {
     "data": {
      "image/png": "[encoded data removed]",
      "text/plain": [
       "<Figure size 432x288 with 1 Axes>"
      ]
     },
     "metadata": {
      "needs_background": "light"
     },
     "output_type": "display_data"
    }
   ],
   "source": [
    "from sklearn.datasets import make_classification\n",
    "from sklearn.model_selection import train_test_split\n",
    "from sklearn.linear_model import LogisticRegression\n",
    "from sklearn.metrics import accuracy_score\n",
    "from matplotlib import pyplot\n",
    "\n",
    "# 데이터 세트\n",
    "X, y = make_classification(n_samples=1000, n_features=10, n_informative=5, n_redundant=5, random_state=1)\n",
    "\n",
    "# 데이터 분할\n",
    "X_train, X_test, y_train, y_test = train_test_split(X, y, test_size=0.33, random_state=1)\n",
    "\n",
    "# 로지스틱 회귀\n",
    "model = LogisticRegression(solver='liblinear')\n",
    "model.fit(X_train, y_train)\n",
    "\n",
    "# 모델 예측\n",
    "yhat = model.predict(X_test)\n",
    "\n",
    "# 예측 정확도\n",
    "accuracy = accuracy_score(y_test, yhat)\n",
    "print('Accuracy: %.2f\\r\\n' % (accuracy*100))\n",
    "\n",
    "# 특성 중요도\n",
    "importance = model.coef_[0]\n",
    "\n",
    "# 특성 중요도 확인\n",
    "for index, value in enumerate(importance):\n",
    "\tprint('Feature: %0d, Score: %.5f' % (index, value))\n",
    "\n",
    "# 특성 중요도 도표\n",
    "pyplot.bar([index for index in range(len(importance))], importance)\n",
    "pyplot.show()"
   ]
  },
  {
   "cell_type": "markdown",
   "metadata": {},
   "source": [
    "##### 로지스틱 회귀\n",
    "\n",
    "```\n",
    "특성 5개\n",
    " - 정확도 : 84.55%\n",
    "```"
   ]
  },
  {
   "cell_type": "code",
   "execution_count": 14,
   "metadata": {},
   "outputs": [
    {
     "name": "stdout",
     "output_type": "stream",
     "text": [
      "Accuracy: 84.55\n"
     ]
    }
   ],
   "source": [
    "from sklearn.datasets import make_classification\n",
    "from sklearn.model_selection import train_test_split\n",
    "from sklearn.feature_selection import SelectFromModel\n",
    "from sklearn.ensemble import RandomForestClassifier\n",
    "from sklearn.linear_model import LogisticRegression\n",
    "from sklearn.metrics import accuracy_score\n",
    "\n",
    "# 특성 성택\n",
    "def select_features(X_train, y_train, X_test):\n",
    "\t# 최대 특성 5개\n",
    "\tfs = SelectFromModel(RandomForestClassifier(n_estimators=1000), max_features=5)\n",
    "\t# 훈련 데이터 학습\n",
    "\tfs.fit(X_train, y_train)\n",
    "\t# 훈련 데이터에서 최대 특성 5개 선택\n",
    "\tX_train_fs = fs.transform(X_train)\n",
    "\t# 테스트 데이터에서 최대 특성 5개 선택\n",
    "\tX_test_fs = fs.transform(X_test)\n",
    "\n",
    "\treturn X_train_fs, X_test_fs\n",
    "\n",
    "# 데이터 세트\n",
    "X, y = make_classification(n_samples=1000, n_features=10, n_informative=5, n_redundant=5, random_state=1)\n",
    "\n",
    "# 데이터 분할\n",
    "X_train, X_test, y_train, y_test = train_test_split(X, y, test_size=0.33, random_state=1)\n",
    "\n",
    "# 특성 성택\n",
    "X_train_fs, X_test_fs = select_features(X_train, y_train, X_test)\n",
    "\n",
    "# 로지스틱 회귀\n",
    "model = LogisticRegression(solver='liblinear')\n",
    "model.fit(X_train_fs, y_train)\n",
    "\n",
    "# 모델 예측\n",
    "yhat = model.predict(X_test_fs)\n",
    "\n",
    "# 예측 정확도\n",
    "accuracy = accuracy_score(y_test, yhat)\n",
    "print('Accuracy: %.2f' % (accuracy*100))"
   ]
  }
 ],
 "metadata": {
  "interpreter": {
   "hash": "31f2aee4e71d21fbe5cf8b01ff0e069b9275f58929596ceb00d14d90e3e16cd6"
  },
  "kernelspec": {
   "display_name": "Python 3.8.9 64-bit",
   "language": "python",
   "name": "python3"
  },
  "language_info": {
   "codemirror_mode": {
    "name": "ipython",
    "version": 3
   },
   "file_extension": ".py",
   "mimetype": "text/x-python",
   "name": "python",
   "nbconvert_exporter": "python",
   "pygments_lexer": "ipython3",
   "version": "3.8.9"
  },
  "orig_nbformat": 4
 },
 "nbformat": 4,
 "nbformat_minor": 2
}
